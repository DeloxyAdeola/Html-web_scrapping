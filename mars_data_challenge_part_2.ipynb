{
 "cells": [
  {
   "cell_type": "code",
   "execution_count": 17,
   "id": "dfcdb5f7",
   "metadata": {},
   "outputs": [],
   "source": [
    "# Import Splinter, BeautifulSoup, and Pandas\n",
    "from splinter import Browser\n",
    "from bs4 import BeautifulSoup as soup\n",
    "import pandas as pd\n",
    "from webdriver_manager.chrome import ChromeDriverManager"
   ]
  },
  {
   "cell_type": "code",
   "execution_count": 20,
   "id": "4d920515",
   "metadata": {},
   "outputs": [],
   "source": [
    "# Set the executable path and initialize Splinter\n",
    "executable_path = {'executable_path': ChromeDriverManager().install()}\n",
    "browser = Browser('chrome', **executable_path, headless=False)"
   ]
  },
  {
   "cell_type": "code",
   "execution_count": 21,
   "id": "453ead64",
   "metadata": {},
   "outputs": [],
   "source": [
    "# Set the executable path and initialize Splinter\n",
    "executable_path = {'executable_path': ChromeDriverManager().install()}\n",
    "browser = Browser('chrome', **executable_path, headless=False)\n",
    "# Set the executable path and initialize Splinter\n",
    "executable_path = {'executable_path': ChromeDriverManager().install()}\n",
    "browser = Browser('chrome', **executable_path, headless=False)"
   ]
  },
  {
   "cell_type": "code",
   "execution_count": 23,
   "id": "40a40dba",
   "metadata": {},
   "outputs": [
    {
     "data": {
      "text/plain": [
       "True"
      ]
     },
     "execution_count": 23,
     "metadata": {},
     "output_type": "execute_result"
    }
   ],
   "source": [
    "# Visit the mars nasa news site\n",
    "url = 'https://data-class-mars-challenge.s3.amazonaws.com/Mars/index.html'\n",
    "browser.visit(url)\n",
    "\n",
    "#Optional delay for loading the page\n",
    "browser.is_element_present_by_css('table.table', wait_time=1)"
   ]
  },
  {
   "cell_type": "code",
   "execution_count": 24,
   "id": "df46ce94",
   "metadata": {},
   "outputs": [],
   "source": [
    "#Set up the HTML parser\n",
    "html = browser.html\n",
    "\n",
    "data_soup = soup(html, 'html.parser')"
   ]
  },
  {
   "cell_type": "code",
   "execution_count": 25,
   "id": "e98413e0",
   "metadata": {},
   "outputs": [],
   "source": [
    "#Get each table row element\n",
    "table_rows = data_soup.find_all('tr', class_='data-row'.split())"
   ]
  },
  {
   "cell_type": "code",
   "execution_count": 26,
   "id": "9a4e58db",
   "metadata": {},
   "outputs": [],
   "source": [
    "#Create lists to hold each column data\n",
    "id_ = []\n",
    "terrestrial_date = []\n",
    "sol = []\n",
    "ls = []\n",
    "month = []\n",
    "min_temp = []\n",
    "pressure = []"
   ]
  },
  {
   "cell_type": "code",
   "execution_count": 27,
   "id": "2f1250f4",
   "metadata": {},
   "outputs": [],
   "source": [
    "#Iterate through each table row and add data to lists\n",
    "for row in table_rows:\n",
    "    #Turn each table row into a list with each column as an element\n",
    "    row_data = row.find_all('td')\n",
    "    \n",
    "    #Add each column data to the appropriate list\n",
    "    #When I try using .astype here, I get an error that says \"AttributeError: 'NoneType' object has no attribute 'astype'\" even though .info below shows that there is no null data\n",
    "    id_.append(row_data[0].text)\n",
    "    terrestrial_date.append(row_data[1].text)\n",
    "    sol.append(row_data[2].text)\n",
    "    ls.append(row_data[3].text)\n",
    "    month.append(row_data[4].text)\n",
    "    min_temp.append(row_data[5].text)\n",
    "    pressure.append(row_data[6].text)"
   ]
  },
  {
   "cell_type": "code",
   "execution_count": 32,
   "id": "f23ae186",
   "metadata": {},
   "outputs": [
    {
     "name": "stdout",
     "output_type": "stream",
     "text": [
      "<class 'pandas.core.frame.DataFrame'>\n",
      "RangeIndex: 1867 entries, 0 to 1866\n",
      "Data columns (total 7 columns):\n",
      " #   Column            Non-Null Count  Dtype \n",
      "---  ------            --------------  ----- \n",
      " 0   id                1867 non-null   object\n",
      " 1   terrestrial_date  1867 non-null   object\n",
      " 2   sol               1867 non-null   object\n",
      " 3   ls                1867 non-null   object\n",
      " 4   month             1867 non-null   object\n",
      " 5   min_temp          1867 non-null   object\n",
      " 6   pressure          1867 non-null   object\n",
      "dtypes: object(7)\n",
      "memory usage: 102.2+ KB\n"
     ]
    }
   ],
   "source": [
    "#Create dataframe from lists\n",
    "mars_temp_df = pd.DataFrame({'id': id_, 'terrestrial_date': terrestrial_date, 'sol': sol, 'ls': ls, 'month': month, 'min_temp': min_temp, 'pressure': pressure})\n",
    "\n",
    "mars_temp_df.info()"
   ]
  },
  {
   "cell_type": "code",
   "execution_count": 33,
   "id": "9e2df911",
   "metadata": {},
   "outputs": [],
   "source": [
    "#Convert columns to appropriate data types\n",
    "mars_temp_df['id'] = mars_temp_df['id'].astype(int)\n",
    "mars_temp_df['terrestrial_date'] = pd.to_datetime(mars_temp_df['terrestrial_date'])\n",
    "mars_temp_df['sol'] = mars_temp_df['sol'].astype(int)\n",
    "mars_temp_df['ls'] = mars_temp_df['ls'].astype(int)\n",
    "mars_temp_df['month'] = mars_temp_df['month'].astype(int)\n",
    "mars_temp_df['min_temp'] = mars_temp_df['min_temp'].astype(float)\n",
    "mars_temp_df['pressure'] = mars_temp_df['pressure'].astype(float)"
   ]
  },
  {
   "cell_type": "code",
   "execution_count": 34,
   "id": "43dd72d1",
   "metadata": {},
   "outputs": [],
   "source": [
    "#Export dataframe to csv\n",
    "mars_temp_df.to_csv('mars_temp_data.csv', index=False)"
   ]
  },
  {
   "cell_type": "code",
   "execution_count": 35,
   "id": "36c83790",
   "metadata": {},
   "outputs": [
    {
     "name": "stdout",
     "output_type": "stream",
     "text": [
      "There are 12 months on Mars\n"
     ]
    }
   ],
   "source": [
    "#How many months exist on Mars\n",
    "mars_months = mars_temp_df['month'].nunique()\n",
    "print(f'There are {mars_months} months on Mars')"
   ]
  },
  {
   "cell_type": "code",
   "execution_count": 36,
   "id": "8c3aab64",
   "metadata": {},
   "outputs": [
    {
     "name": "stdout",
     "output_type": "stream",
     "text": [
      "There are 1867 Martian days worth of data in the dataset\n"
     ]
    }
   ],
   "source": [
    "#How many Martian days worth of data exist in the dataset\n",
    "\n",
    "#Prints the answer if the number of rows in the dataframe is equal to the number of unique terrestrial\n",
    "#dates and the number of unique martian days elapsed since Curiosity landed\n",
    "if mars_temp_df['terrestrial_date'].nunique() == mars_temp_df['sol'].nunique() & mars_temp_df['terrestrial_date'].nunique() == len(mars_temp_df):\n",
    "    print(f'There are {len(mars_temp_df)} Martian days worth of data in the dataset')\n",
    "else:\n",
    "    print('False')"
   ]
  },
  {
   "cell_type": "code",
   "execution_count": 37,
   "id": "4b97762e",
   "metadata": {},
   "outputs": [
    {
     "data": {
      "text/plain": [
       "<AxesSubplot:>"
      ]
     },
     "execution_count": 37,
     "metadata": {},
     "output_type": "execute_result"
    },
    {
     "data": {
      "image/png": "[encoded data removed]",
      "text/plain": [
       "<Figure size 432x288 with 1 Axes>"
      ]
     },
     "metadata": {
      "needs_background": "light"
     },
     "output_type": "display_data"
    }
   ],
   "source": [
    "mars_temp_df['sol'].plot()\n",
    "\n",
    "#As seen here, the number of days elapsed since Curiosity landed on Mars is not exactly linear and we\n",
    "#therefore need to do the above cell to find the answer\n",
    "\n",
    "#This all shows that each row in the dataframe is a unique day on Mars and the number of Martian days\n",
    "#in the dataset is equal to its row count and not equal to the (max - min) of the "
   ]
  },
  {
   "cell_type": "code",
   "execution_count": 42,
   "id": "e4634b16",
   "metadata": {},
   "outputs": [
    {
     "name": "stdout",
     "output_type": "stream",
     "text": [
      "The coldest month on Mars is 3 and the warmest\n"
     ]
    },
    {
     "data": {
      "image/png": "[encoded data removed]",
      "text/plain": [
       "<Figure size 432x288 with 1 Axes>"
      ]
     },
     "metadata": {
      "needs_background": "light"
     },
     "output_type": "display_data"
    }
   ],
   "source": [
    "#What are the coldest and warmest months on Mars (at the locations of Curiosity)\n",
    "mars_coldest_months = mars_temp_df.groupby('month').mean()['min_temp']\n",
    "mars_coldest_months.plot.bar().set_ylabel('Temperature')\n",
    "\n",
    "print(f'The coldest month on Mars is {mars_coldest_months.idxmin()} and the warmest')"
   ]
  },
  {
   "cell_type": "code",
   "execution_count": 43,
   "id": "c7ceeaf2",
   "metadata": {},
   "outputs": [
    {
     "name": "stdout",
     "output_type": "stream",
     "text": [
      "The lowest pressure month on Mars is 6 and the highest atmospheric pressure\n"
     ]
    },
    {
     "data": {
      "image/png": "[encoded data removed]",
      "text/plain": [
       "<Figure size 432x288 with 1 Axes>"
      ]
     },
     "metadata": {
      "needs_background": "light"
     },
     "output_type": "display_data"
    }
   ],
   "source": [
    "#What months have the lowest and the highest atmospheric pressure on Mars (at the locations of Curiosity)\n",
    "mars_atmo_pressure = mars_temp_df.groupby('month').mean()['pressure']\n",
    "mars_atmo_pressure.plot.bar().set_ylabel('Atmospheric Pressure')\n",
    "\n",
    "print(f'The lowest pressure month on Mars is {mars_atmo_pressure.idxmin()} and the highest atmospheric pressure')"
   ]
  },
  {
   "cell_type": "code",
   "execution_count": 45,
   "id": "fe6c1b72",
   "metadata": {},
   "outputs": [
    {
     "name": "stdout",
     "output_type": "stream",
     "text": [
      "There are about 646 terrestial year that exist in martian year\n"
     ]
    },
    {
     "data": {
      "image/png": "[encoded data removed]",
      "text/plain": [
       "<Figure size 432x288 with 1 Axes>"
      ]
     },
     "metadata": {
      "needs_background": "light"
     },
     "output_type": "display_data"
    }
   ],
   "source": [
    "#About how many terrestrial days exist in a Martian year\n",
    "mars_year = mars_temp_df['min_temp'].where(mars_temp_df['sol'] < 900)\n",
    "mars_years_sorted = mars_year.sort_values(ascending=False).reset_index(drop=True)\n",
    "mars_year.plot()\n",
    "\n",
    "#Assuming that the Martian year is evenly split between increasing and decreasing temperatures\n",
    "print(f'There are about {round((mars_year.idxmin() - mars_year.idxmax()) * 2)} terrestial year that exist in martian year')"
   ]
  },
  {
   "cell_type": "code",
   "execution_count": null,
   "id": "e6ab0c04",
   "metadata": {},
   "outputs": [],
   "source": []
  }
 ],
 "metadata": {
  "kernelspec": {
   "display_name": "PythonData",
   "language": "python",
   "name": "pythondata"
  },
  "language_info": {
   "codemirror_mode": {
    "name": "ipython",
    "version": 3
   },
   "file_extension": ".py",
   "mimetype": "text/x-python",
   "name": "python",
   "nbconvert_exporter": "python",
   "pygments_lexer": "ipython3",
   "version": "3.9.12"
  }
 },
 "nbformat": 4,
 "nbformat_minor": 5
}
